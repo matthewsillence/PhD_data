{
  "nbformat": 4,
  "nbformat_minor": 0,
  "metadata": {
    "colab": {
      "name": "pdf_extractor.ipynb",
      "provenance": [],
      "collapsed_sections": [],
      "authorship_tag": "ABX9TyOBplQlwI1HWNwqsp3N2412",
      "include_colab_link": true
    },
    "kernelspec": {
      "name": "python3",
      "display_name": "Python 3"
    }
  },
  "cells": [
    {
      "cell_type": "markdown",
      "metadata": {
        "id": "view-in-github",
        "colab_type": "text"
      },
      "source": [
        "<a href=\"https://colab.research.google.com/github/matthewsillence/PhD_data/blob/master/pdf_extractor.ipynb\" target=\"_parent\"><img src=\"https://colab.research.google.com/assets/colab-badge.svg\" alt=\"Open In Colab\"/></a>"
      ]
    },
    {
      "cell_type": "code",
      "metadata": {
        "id": "eON2-xYi2-GI",
        "outputId": "1c284d72-9281-4ec6-dc5c-873e8fdbb917",
        "colab": {
          "base_uri": "https://localhost:8080/",
          "height": 207
        }
      },
      "source": [
        "### Install PyPDF2\n",
        "pip install pyPDF2"
      ],
      "execution_count": 6,
      "outputs": [
        {
          "output_type": "stream",
          "text": [
            "Collecting pyPDF2\n",
            "\u001b[?25l  Downloading https://files.pythonhosted.org/packages/b4/01/68fcc0d43daf4c6bdbc6b33cc3f77bda531c86b174cac56ef0ffdb96faab/PyPDF2-1.26.0.tar.gz (77kB)\n",
            "\r\u001b[K     |████▎                           | 10kB 15.1MB/s eta 0:00:01\r\u001b[K     |████████▌                       | 20kB 2.6MB/s eta 0:00:01\r\u001b[K     |████████████▊                   | 30kB 2.9MB/s eta 0:00:01\r\u001b[K     |█████████████████               | 40kB 3.2MB/s eta 0:00:01\r\u001b[K     |█████████████████████▏          | 51kB 3.3MB/s eta 0:00:01\r\u001b[K     |█████████████████████████▍      | 61kB 3.7MB/s eta 0:00:01\r\u001b[K     |█████████████████████████████▋  | 71kB 3.9MB/s eta 0:00:01\r\u001b[K     |████████████████████████████████| 81kB 3.0MB/s \n",
            "\u001b[?25hBuilding wheels for collected packages: pyPDF2\n",
            "  Building wheel for pyPDF2 (setup.py) ... \u001b[?25l\u001b[?25hdone\n",
            "  Created wheel for pyPDF2: filename=PyPDF2-1.26.0-cp36-none-any.whl size=61086 sha256=44766ee9701ec7418a4c4ddf01108a94c3a0a26dd6792a0fad072385f7b06183\n",
            "  Stored in directory: /root/.cache/pip/wheels/53/84/19/35bc977c8bf5f0c23a8a011aa958acd4da4bbd7a229315c1b7\n",
            "Successfully built pyPDF2\n",
            "Installing collected packages: pyPDF2\n",
            "Successfully installed pyPDF2-1.26.0\n"
          ],
          "name": "stdout"
        }
      ]
    },
    {
      "cell_type": "code",
      "metadata": {
        "id": "RcmBFjaO3qME",
        "outputId": "cb05203d-9667-400e-9ae1-ba7acb692255",
        "colab": {
          "base_uri": "https://localhost:8080/",
          "height": 187
        }
      },
      "source": [
        "### Check version of PyPDF2\n",
        "!pip show pyPDF2"
      ],
      "execution_count": 7,
      "outputs": [
        {
          "output_type": "stream",
          "text": [
            "Name: PyPDF2\n",
            "Version: 1.26.0\n",
            "Summary: PDF toolkit\n",
            "Home-page: http://mstamy2.github.com/PyPDF2\n",
            "Author: Mathieu Fenniak\n",
            "Author-email: biziqe@mathieu.fenniak.net\n",
            "License: UNKNOWN\n",
            "Location: /usr/local/lib/python3.6/dist-packages\n",
            "Requires: \n",
            "Required-by: \n"
          ],
          "name": "stdout"
        }
      ]
    },
    {
      "cell_type": "code",
      "metadata": {
        "id": "tq6RAgtn4ulI",
        "outputId": "c335827b-3941-4827-f5a4-55fc6a5ed1d9",
        "colab": {
          "base_uri": "https://localhost:8080/",
          "height": 102
        }
      },
      "source": [
        "### Alternate installation of PyPDF2 \n",
        "!apt-get install python3-pypdf2"
      ],
      "execution_count": 16,
      "outputs": [
        {
          "output_type": "stream",
          "text": [
            "Reading package lists... Done\n",
            "Building dependency tree       \n",
            "Reading state information... Done\n",
            "python3-pypdf2 is already the newest version (1.26.0-2).\n",
            "0 upgraded, 0 newly installed, 0 to remove and 11 not upgraded.\n"
          ],
          "name": "stdout"
        }
      ]
    },
    {
      "cell_type": "code",
      "metadata": {
        "id": "ziFceNss5RvK",
        "outputId": "2c160e4a-715c-436d-d770-113a2a5c4bd4",
        "colab": {
          "base_uri": "https://localhost:8080/",
          "height": 88
        }
      },
      "source": [
        "### Install pdfmerge\n",
        "pip install pdfmerge"
      ],
      "execution_count": 17,
      "outputs": [
        {
          "output_type": "stream",
          "text": [
            "Collecting pdfmerge\n",
            "  Using cached https://files.pythonhosted.org/packages/f2/96/c61ff94c9e9e4301c910545d19f487502bed8d1fc5681d7cf4d628b235f6/pdfmerge-0.0.7.tar.gz\n",
            "\u001b[31mERROR: Command errored out with exit status 1: python setup.py egg_info Check the logs for full command output.\u001b[0m\n"
          ],
          "name": "stdout"
        }
      ]
    },
    {
      "cell_type": "code",
      "metadata": {
        "id": "MkS5MIkG5bAz"
      },
      "source": [
        "# Import PyPDF2 package\n",
        "import PyPDF2"
      ],
      "execution_count": 18,
      "outputs": []
    },
    {
      "cell_type": "code",
      "metadata": {
        "id": "YV0vZvhT6Akk"
      },
      "source": [
        "### Open PDF file to read in as binary\n",
        "pdf_file =open('/content/advice-and-guidance-research-degrees.pdf', 'rb')\n"
      ],
      "execution_count": 25,
      "outputs": []
    },
    {
      "cell_type": "code",
      "metadata": {
        "id": "C264TDdL7ufs",
        "outputId": "81b03e42-ad7c-4033-d3a9-50d5e76755c2",
        "colab": {
          "base_uri": "https://localhost:8080/",
          "height": 34
        }
      },
      "source": [
        "### Read using PyPDF2Reader\n",
        "read_pdf = PyPDF2.PdfFileReader(pdf_file)"
      ],
      "execution_count": 26,
      "outputs": [
        {
          "output_type": "stream",
          "text": [
            "PdfReadWarning: Xref table not zero-indexed. ID numbers for objects will be corrected. [pdf.py:1736]\n"
          ],
          "name": "stderr"
        }
      ]
    },
    {
      "cell_type": "code",
      "metadata": {
        "id": "oMnlwE8s71Oj",
        "outputId": "04f997c4-5911-451b-cfaa-3d40deac7624",
        "colab": {
          "base_uri": "https://localhost:8080/",
          "height": 34
        }
      },
      "source": [
        "### Check pdf is encrypted or not\n",
        "read_pdf.getIsEncrypted()"
      ],
      "execution_count": 27,
      "outputs": [
        {
          "output_type": "execute_result",
          "data": {
            "text/plain": [
              "False"
            ]
          },
          "metadata": {
            "tags": []
          },
          "execution_count": 27
        }
      ]
    },
    {
      "cell_type": "code",
      "metadata": {
        "id": "Jj2oKDMH7448",
        "outputId": "b5f29e43-40c4-40bc-95a9-5d1321885306",
        "colab": {
          "base_uri": "https://localhost:8080/",
          "height": 34
        }
      },
      "source": [
        "### Check no. of pages\n",
        "read_pdf.numPages"
      ],
      "execution_count": 28,
      "outputs": [
        {
          "output_type": "execute_result",
          "data": {
            "text/plain": [
              "14"
            ]
          },
          "metadata": {
            "tags": []
          },
          "execution_count": 28
        }
      ]
    },
    {
      "cell_type": "code",
      "metadata": {
        "id": "LuwPu8hM79oL",
        "outputId": "1502667b-c109-4cdc-f5a8-30fa83843fd2",
        "colab": {
          "base_uri": "https://localhost:8080/",
          "height": 1000
        }
      },
      "source": [
        "### Extract text from page number and split into lines\n",
        "page1 = read_pdf.getPage(1)\n",
        "page1.extractText().split('\\n')\n"
      ],
      "execution_count": 29,
      "outputs": [
        {
          "output_type": "execute_result",
          "data": {
            "text/plain": [
              "['1Contents',\n",
              " 'Regulatory contexts for the Quality Code    ',\n",
              " '        ',\n",
              " '1 Terminology',\n",
              " '            ',\n",
              " '1Expectations and Practices',\n",
              " '          ',\n",
              " '2Guiding principles',\n",
              " '           ',\n",
              " '4Practical advice',\n",
              " '           ',\n",
              " '5Writing group',\n",
              " '            ',\n",
              " '13Regulatory contexts for the Quality Code',\n",
              " 'The Expectations and Core practices of the UK Quality Code for Higher Education (Quality Code) are ',\n",
              " 'mandatory for higher education providers in all parts of the UK. Common practices are mandatory in ',\n",
              " 'Scotland, Wales and Northern Ireland and while providers in England may choose to work towards ',\n",
              " 'them, they are not required to do so as these are not regulatory requirements and will not be ',\n",
              " 'assessed as part of the OfS™s regulatory framework. National regulators and QAA are not bound by the ',\n",
              " 'information in this advice and guidance and will not view it as containing indicators of compliance. ',\n",
              " ' This guidance does not interpret statutory requirements.',\n",
              " 'Terminology',\n",
              " 'Doctoral degrees:',\n",
              " ' Doctoral degrees are qualifications rooted in original research - the creation of new ',\n",
              " 'knowledge or originality in the application of knowledge. The doctorate is, therefore, unique in the ',\n",
              " 'array of qualifications offered by higher education providers. Other key reference points for doctoral ',\n",
              " 'degrees are the doctoral qualification descriptors included in the national higher education qualification ',\n",
              " 'frameworks for England, Wales and Northern Ireland and for Scotland, and the QAA ',\n",
              " 'Doctoral Degree ',\n",
              " 'Characteristics Statement',\n",
              " ' (2015). ',\n",
              " 'Masters by research:',\n",
              " ' Research master™s degrees and doctorates are closely linked because of the ',\n",
              " 'emphasis in both on independent research. Research students may choose to register for a research ',\n",
              " 'master™s degree either as a standalone research qualification or as an entry qualification for a doctorate. ',\n",
              " 'The QAA ',\n",
              " 'Master™s Degree Characteristics Statement',\n",
              " ' (2015) summarises the main features of research ',\n",
              " 'master™s degrees, including a general description of the characteristics relevant to research ',\n",
              " ' master™s degrees.',\n",
              " 'Research students:',\n",
              " ' The higher education sector recognises the diverse needs of research students and ',\n",
              " 'aims to encourage consistency of provision for all students, regardless of background or circumstances. ',\n",
              " 'The Expectations and Core and Common practices are therefore intended to apply to the many ',\n",
              " 'different types of students undertaking UK research degrees. These include full and part-time students, ',\n",
              " 'UK and international students, students from all backgrounds, and those with a range of protected ',\n",
              " 'characteristics and prior educational experience. ',\n",
              " 'Graduate schools:',\n",
              " ' Within the UK, research students are often part of a cohort. As well as having a ',\n",
              " 'subject identity, they may belong to a graduate school and/or doctoral training centre. Doctoral training ',\n",
              " 'centres and other arrangements where higher education providers work together, help to shape the way ',\n",
              " 'that many doctoral students are trained.',\n",
              " 'Codes of practice:',\n",
              " ' Codes of practice for research degrees help both prospective and current research ',\n",
              " 'students and staff to know what their responsibilities are and what they can expect from one another. ',\n",
              " 'All codes and related guidance are written clearly for, and are accessible to, those who need to ',\n",
              " 'use them and contain sufficient information for all intended users, including any externally located ',\n",
              " 'supervisors.UK Quality Code - Advice and Guidance',\n",
              " ' Research Degrees',\n",
              " '']"
            ]
          },
          "metadata": {
            "tags": []
          },
          "execution_count": 29
        }
      ]
    },
    {
      "cell_type": "code",
      "metadata": {
        "id": "4A1hb8VJEyiT",
        "outputId": "3757952e-4aab-4084-9a79-1f18f8100397",
        "colab": {
          "base_uri": "https://localhost:8080/",
          "height": 54
        }
      },
      "source": [
        "### Print nlpage1 text\n",
        "nlpage1 = page1.extractText().split('\\n')\n",
        "print(nlpage1)"
      ],
      "execution_count": 30,
      "outputs": [
        {
          "output_type": "stream",
          "text": [
            "['1Contents', 'Regulatory contexts for the Quality Code    ', '        ', '1 Terminology', '            ', '1Expectations and Practices', '          ', '2Guiding principles', '           ', '4Practical advice', '           ', '5Writing group', '            ', '13Regulatory contexts for the Quality Code', 'The Expectations and Core practices of the UK Quality Code for Higher Education (Quality Code) are ', 'mandatory for higher education providers in all parts of the UK. Common practices are mandatory in ', 'Scotland, Wales and Northern Ireland and while providers in England may choose to work towards ', 'them, they are not required to do so as these are not regulatory requirements and will not be ', 'assessed as part of the OfS™s regulatory framework. National regulators and QAA are not bound by the ', 'information in this advice and guidance and will not view it as containing indicators of compliance. ', ' This guidance does not interpret statutory requirements.', 'Terminology', 'Doctoral degrees:', ' Doctoral degrees are qualifications rooted in original research - the creation of new ', 'knowledge or originality in the application of knowledge. The doctorate is, therefore, unique in the ', 'array of qualifications offered by higher education providers. Other key reference points for doctoral ', 'degrees are the doctoral qualification descriptors included in the national higher education qualification ', 'frameworks for England, Wales and Northern Ireland and for Scotland, and the QAA ', 'Doctoral Degree ', 'Characteristics Statement', ' (2015). ', 'Masters by research:', ' Research master™s degrees and doctorates are closely linked because of the ', 'emphasis in both on independent research. Research students may choose to register for a research ', 'master™s degree either as a standalone research qualification or as an entry qualification for a doctorate. ', 'The QAA ', 'Master™s Degree Characteristics Statement', ' (2015) summarises the main features of research ', 'master™s degrees, including a general description of the characteristics relevant to research ', ' master™s degrees.', 'Research students:', ' The higher education sector recognises the diverse needs of research students and ', 'aims to encourage consistency of provision for all students, regardless of background or circumstances. ', 'The Expectations and Core and Common practices are therefore intended to apply to the many ', 'different types of students undertaking UK research degrees. These include full and part-time students, ', 'UK and international students, students from all backgrounds, and those with a range of protected ', 'characteristics and prior educational experience. ', 'Graduate schools:', ' Within the UK, research students are often part of a cohort. As well as having a ', 'subject identity, they may belong to a graduate school and/or doctoral training centre. Doctoral training ', 'centres and other arrangements where higher education providers work together, help to shape the way ', 'that many doctoral students are trained.', 'Codes of practice:', ' Codes of practice for research degrees help both prospective and current research ', 'students and staff to know what their responsibilities are and what they can expect from one another. ', 'All codes and related guidance are written clearly for, and are accessible to, those who need to ', 'use them and contain sufficient information for all intended users, including any externally located ', 'supervisors.UK Quality Code - Advice and Guidance', ' Research Degrees', '']\n"
          ],
          "name": "stdout"
        }
      ]
    },
    {
      "cell_type": "code",
      "metadata": {
        "id": "0wWMrjDlcbgY",
        "outputId": "499f289a-7615-4f57-bb75-62811c41b169",
        "colab": {
          "base_uri": "https://localhost:8080/",
          "height": 34
        }
      },
      "source": [
        "### Check type of variable\n",
        "type(nlpage1)"
      ],
      "execution_count": 31,
      "outputs": [
        {
          "output_type": "execute_result",
          "data": {
            "text/plain": [
              "list"
            ]
          },
          "metadata": {
            "tags": []
          },
          "execution_count": 31
        }
      ]
    },
    {
      "cell_type": "code",
      "metadata": {
        "id": "96cetDv7dRD-",
        "outputId": "3b03b709-41ea-45a8-b613-c936f8faf984",
        "colab": {
          "base_uri": "https://localhost:8080/",
          "height": 54
        }
      },
      "source": [
        "### Print out using the join() method\n",
        "inp_list = nlpage1 \n",
        "out_str = \" \"\n",
        "print(out_str.join(inp_list))"
      ],
      "execution_count": 47,
      "outputs": [
        {
          "output_type": "stream",
          "text": [
            "1Contents Regulatory contexts for the Quality Code              1 Terminology              1Expectations and Practices            2Guiding principles             4Practical advice             5Writing group              13Regulatory contexts for the Quality Code The Expectations and Core practices of the UK Quality Code for Higher Education (Quality Code) are  mandatory for higher education providers in all parts of the UK. Common practices are mandatory in  Scotland, Wales and Northern Ireland and while providers in England may choose to work towards  them, they are not required to do so as these are not regulatory requirements and will not be  assessed as part of the OfS™s regulatory framework. National regulators and QAA are not bound by the  information in this advice and guidance and will not view it as containing indicators of compliance.   This guidance does not interpret statutory requirements. Terminology Doctoral degrees:  Doctoral degrees are qualifications rooted in original research - the creation of new  knowledge or originality in the application of knowledge. The doctorate is, therefore, unique in the  array of qualifications offered by higher education providers. Other key reference points for doctoral  degrees are the doctoral qualification descriptors included in the national higher education qualification  frameworks for England, Wales and Northern Ireland and for Scotland, and the QAA  Doctoral Degree  Characteristics Statement  (2015).  Masters by research:  Research master™s degrees and doctorates are closely linked because of the  emphasis in both on independent research. Research students may choose to register for a research  master™s degree either as a standalone research qualification or as an entry qualification for a doctorate.  The QAA  Master™s Degree Characteristics Statement  (2015) summarises the main features of research  master™s degrees, including a general description of the characteristics relevant to research   master™s degrees. Research students:  The higher education sector recognises the diverse needs of research students and  aims to encourage consistency of provision for all students, regardless of background or circumstances.  The Expectations and Core and Common practices are therefore intended to apply to the many  different types of students undertaking UK research degrees. These include full and part-time students,  UK and international students, students from all backgrounds, and those with a range of protected  characteristics and prior educational experience.  Graduate schools:  Within the UK, research students are often part of a cohort. As well as having a  subject identity, they may belong to a graduate school and/or doctoral training centre. Doctoral training  centres and other arrangements where higher education providers work together, help to shape the way  that many doctoral students are trained. Codes of practice:  Codes of practice for research degrees help both prospective and current research  students and staff to know what their responsibilities are and what they can expect from one another.  All codes and related guidance are written clearly for, and are accessible to, those who need to  use them and contain sufficient information for all intended users, including any externally located  supervisors.UK Quality Code - Advice and Guidance  Research Degrees \n"
          ],
          "name": "stdout"
        }
      ]
    },
    {
      "cell_type": "code",
      "metadata": {
        "id": "mgYW-WP-LcQY"
      },
      "source": [
        "### Import PrettyPrint\n",
        "import pprint"
      ],
      "execution_count": 36,
      "outputs": []
    },
    {
      "cell_type": "code",
      "metadata": {
        "id": "XlwCaWPzeDN_",
        "outputId": "cffd4e02-4be4-4bb6-bce1-d05c7aea81bd",
        "colab": {
          "base_uri": "https://localhost:8080/",
          "height": 816
        }
      },
      "source": [
        "### Print using PrettyPrint for increased legibility\n",
        "pprint.pprint(out_str.join(inp_list))"
      ],
      "execution_count": 37,
      "outputs": [
        {
          "output_type": "stream",
          "text": [
            "('1Contents Regulatory contexts for the Quality Code              1 '\n",
            " 'Terminology              1Expectations and Practices            2Guiding '\n",
            " 'principles             4Practical advice             5Writing '\n",
            " 'group              13Regulatory contexts for the Quality Code The '\n",
            " 'Expectations and Core practices of the UK Quality Code for Higher Education '\n",
            " '(Quality Code) are  mandatory for higher education providers in all parts of '\n",
            " 'the UK. Common practices are mandatory in  Scotland, Wales and Northern '\n",
            " 'Ireland and while providers in England may choose to work towards  them, '\n",
            " 'they are not required to do so as these are not regulatory requirements and '\n",
            " 'will not be  assessed as part of the OfS™s regulatory framework. National '\n",
            " 'regulators and QAA are not bound by the  information in this advice and '\n",
            " 'guidance and will not view it as containing indicators of compliance.   This '\n",
            " 'guidance does not interpret statutory requirements. Terminology Doctoral '\n",
            " 'degrees:  Doctoral degrees are qualifications rooted in original research - '\n",
            " 'the creation of new  knowledge or originality in the application of '\n",
            " 'knowledge. The doctorate is, therefore, unique in the  array of '\n",
            " 'qualifications offered by higher education providers. Other key reference '\n",
            " 'points for doctoral  degrees are the doctoral qualification descriptors '\n",
            " 'included in the national higher education qualification  frameworks for '\n",
            " 'England, Wales and Northern Ireland and for Scotland, and the QAA  Doctoral '\n",
            " 'Degree  Characteristics Statement  (2015).  Masters by research:  Research '\n",
            " 'master™s degrees and doctorates are closely linked because of the  emphasis '\n",
            " 'in both on independent research. Research students may choose to register '\n",
            " 'for a research  master™s degree either as a standalone research '\n",
            " 'qualification or as an entry qualification for a doctorate.  The QAA  '\n",
            " 'Master™s Degree Characteristics Statement  (2015) summarises the main '\n",
            " 'features of research  master™s degrees, including a general description of '\n",
            " 'the characteristics relevant to research   master™s degrees. Research '\n",
            " 'students:  The higher education sector recognises the diverse needs of '\n",
            " 'research students and  aims to encourage consistency of provision for all '\n",
            " 'students, regardless of background or circumstances.  The Expectations and '\n",
            " 'Core and Common practices are therefore intended to apply to the many  '\n",
            " 'different types of students undertaking UK research degrees. These include '\n",
            " 'full and part-time students,  UK and international students, students from '\n",
            " 'all backgrounds, and those with a range of protected  characteristics and '\n",
            " 'prior educational experience.  Graduate schools:  Within the UK, research '\n",
            " 'students are often part of a cohort. As well as having a  subject identity, '\n",
            " 'they may belong to a graduate school and/or doctoral training centre. '\n",
            " 'Doctoral training  centres and other arrangements where higher education '\n",
            " 'providers work together, help to shape the way  that many doctoral students '\n",
            " 'are trained. Codes of practice:  Codes of practice for research degrees help '\n",
            " 'both prospective and current research  students and staff to know what their '\n",
            " 'responsibilities are and what they can expect from one another.  All codes '\n",
            " 'and related guidance are written clearly for, and are accessible to, those '\n",
            " 'who need to  use them and contain sufficient information for all intended '\n",
            " 'users, including any externally located  supervisors.UK Quality Code - '\n",
            " 'Advice and Guidance  Research Degrees ')\n"
          ],
          "name": "stdout"
        }
      ]
    },
    {
      "cell_type": "code",
      "metadata": {
        "id": "hDo1NUr4fAsm",
        "outputId": "aa4326f2-85ac-44ec-83d2-a280aca1e002",
        "colab": {
          "base_uri": "https://localhost:8080/",
          "height": 34
        }
      },
      "source": [
        "### Check variable type\n",
        "type(out_str.join(inp_list))"
      ],
      "execution_count": 38,
      "outputs": [
        {
          "output_type": "execute_result",
          "data": {
            "text/plain": [
              "str"
            ]
          },
          "metadata": {
            "tags": []
          },
          "execution_count": 38
        }
      ]
    },
    {
      "cell_type": "code",
      "metadata": {
        "id": "2jQRS6DhHhcn"
      },
      "source": [
        "### Set raw text\n",
        "raw = out_str.join(inp_list)"
      ],
      "execution_count": 39,
      "outputs": []
    },
    {
      "cell_type": "code",
      "metadata": {
        "id": "ylHzolxnMWYg"
      },
      "source": [
        "### Write out raw text to a text file\n",
        "text_file = open(\"raw.txt\", \"w\")\n",
        "text_file.write(raw)\n",
        "text_file.close()"
      ],
      "execution_count": 45,
      "outputs": []
    },
    {
      "cell_type": "code",
      "metadata": {
        "id": "LpsyNLlWQims"
      },
      "source": [
        "# Trim leading space\n",
        "\n",
        "F_IN = 'raw.txt'\n",
        "F_OUT = 'raw_trimmed.txt'\n",
        "\n",
        "with open(F_IN, 'r', encoding='utf-8', newline='\\n') as f_in:\n",
        "    lines = f_in.readlines()\n",
        "\n",
        "with open(F_OUT, 'w', encoding='utf-8', newline='\\n') as f_out:\n",
        "    for line in lines:\n",
        "        f_out.write(line.strip() + '\\n')"
      ],
      "execution_count": 46,
      "outputs": []
    },
    {
      "cell_type": "code",
      "metadata": {
        "id": "3guXGhMxSyci",
        "outputId": "3f9fe5fd-657e-49d6-8822-e9da8d798a9e",
        "colab": {
          "base_uri": "https://localhost:8080/",
          "height": 683
        }
      },
      "source": [
        "!apt-get install python3-nltk"
      ],
      "execution_count": 54,
      "outputs": [
        {
          "output_type": "stream",
          "text": [
            "Reading package lists... Done\n",
            "Building dependency tree       \n",
            "Reading state information... Done\n",
            "The following additional packages will be installed:\n",
            "  libladr4 prover9 python3-six\n",
            "Suggested packages:\n",
            "  ladr4-apps prover9-doc\n",
            "The following NEW packages will be installed:\n",
            "  libladr4 prover9 python3-nltk python3-six\n",
            "0 upgraded, 4 newly installed, 0 to remove and 11 not upgraded.\n",
            "Need to get 1,177 kB of archives.\n",
            "After this operation, 6,284 kB of additional disk space will be used.\n",
            "Get:1 http://archive.ubuntu.com/ubuntu bionic/universe amd64 libladr4 amd64 0.0.200911a-2.1build1 [168 kB]\n",
            "Get:2 http://archive.ubuntu.com/ubuntu bionic/universe amd64 prover9 amd64 0.0.200911a-2.1build1 [77.8 kB]\n",
            "Get:3 http://archive.ubuntu.com/ubuntu bionic/main amd64 python3-six all 1.11.0-2 [11.4 kB]\n",
            "Get:4 http://archive.ubuntu.com/ubuntu bionic-updates/universe amd64 python3-nltk all 3.2.5-1ubuntu0.1 [920 kB]\n",
            "Fetched 1,177 kB in 1s (834 kB/s)\n",
            "Selecting previously unselected package libladr4.\n",
            "(Reading database ... 144696 files and directories currently installed.)\n",
            "Preparing to unpack .../libladr4_0.0.200911a-2.1build1_amd64.deb ...\n",
            "Unpacking libladr4 (0.0.200911a-2.1build1) ...\n",
            "Selecting previously unselected package prover9.\n",
            "Preparing to unpack .../prover9_0.0.200911a-2.1build1_amd64.deb ...\n",
            "Unpacking prover9 (0.0.200911a-2.1build1) ...\n",
            "Selecting previously unselected package python3-six.\n",
            "Preparing to unpack .../python3-six_1.11.0-2_all.deb ...\n",
            "Unpacking python3-six (1.11.0-2) ...\n",
            "Selecting previously unselected package python3-nltk.\n",
            "Preparing to unpack .../python3-nltk_3.2.5-1ubuntu0.1_all.deb ...\n",
            "Unpacking python3-nltk (3.2.5-1ubuntu0.1) ...\n",
            "Setting up python3-six (1.11.0-2) ...\n",
            "Setting up libladr4 (0.0.200911a-2.1build1) ...\n",
            "Setting up python3-nltk (3.2.5-1ubuntu0.1) ...\n",
            "Setting up prover9 (0.0.200911a-2.1build1) ...\n",
            "Processing triggers for man-db (2.8.3-2ubuntu0.1) ...\n",
            "Processing triggers for libc-bin (2.27-3ubuntu1.2) ...\n",
            "/sbin/ldconfig.real: /usr/local/lib/python3.6/dist-packages/ideep4py/lib/libmkldnn.so.0 is not a symbolic link\n",
            "\n"
          ],
          "name": "stdout"
        }
      ]
    },
    {
      "cell_type": "code",
      "metadata": {
        "id": "iqkmhsQ3Sps0"
      },
      "source": [
        "### Tokenize text\n",
        "\n",
        "import nltk\n",
        "nltk.download('punkt')\n",
        "\n",
        "F_IN = 'raw_trimmed.txt'\n",
        "\n",
        "with open(F_IN, 'r', encoding='utf-8', newline='\\n') as f_in:\n",
        "    raw_text = f_in.read()\n",
        "    tokens = nltk.word_tokenize(raw_text)\n",
        "    print(len(tokens))\n",
        "    print()\n",
        "    pprint.pprint(tokens[:100])"
      ],
      "execution_count": null,
      "outputs": []
    },
    {
      "cell_type": "code",
      "metadata": {
        "id": "ixX-adq2VBeZ",
        "outputId": "b4e9f61f-b645-40c6-ff4d-027186adff40",
        "colab": {
          "base_uri": "https://localhost:8080/",
          "height": 867
        }
      },
      "source": [
        "### Print most frequent tokens\n",
        "\n",
        "with open(F_IN, 'r', encoding='utf-8', newline='\\n') as f_in:\n",
        "    raw_text = f_in.read()\n",
        "    tokens = nltk.word_tokenize(raw_text)\n",
        "    freq_dist = nltk.FreqDist(tokens)\n",
        "    pprint.pprint(freq_dist.most_common(50))\n",
        "    "
      ],
      "execution_count": 75,
      "outputs": [
        {
          "output_type": "stream",
          "text": [
            "[('and', 27),\n",
            " ('the', 19),\n",
            " ('of', 18),\n",
            " ('.', 17),\n",
            " (',', 17),\n",
            " ('are', 14),\n",
            " ('for', 13),\n",
            " ('to', 12),\n",
            " ('research', 12),\n",
            " ('students', 11),\n",
            " ('in', 9),\n",
            " ('degrees', 8),\n",
            " ('a', 8),\n",
            " ('not', 6),\n",
            " ('as', 6),\n",
            " ('Quality', 5),\n",
            " ('Code', 5),\n",
            " ('The', 5),\n",
            " ('UK', 5),\n",
            " ('higher', 5),\n",
            " ('education', 5),\n",
            " (':', 5),\n",
            " ('providers', 4),\n",
            " ('all', 4),\n",
            " ('Doctoral', 4),\n",
            " ('doctoral', 4),\n",
            " ('qualification', 4),\n",
            " ('Research', 4),\n",
            " ('master™s', 4),\n",
            " ('practices', 3),\n",
            " ('(', 3),\n",
            " (')', 3),\n",
            " ('may', 3),\n",
            " ('they', 3),\n",
            " ('QAA', 3),\n",
            " ('by', 3),\n",
            " ('guidance', 3),\n",
            " ('or', 3),\n",
            " ('contexts', 2),\n",
            " ('Terminology', 2),\n",
            " ('advice', 2),\n",
            " ('Expectations', 2),\n",
            " ('Core', 2),\n",
            " ('mandatory', 2),\n",
            " ('Common', 2),\n",
            " ('Scotland', 2),\n",
            " ('Wales', 2),\n",
            " ('Northern', 2),\n",
            " ('Ireland', 2),\n",
            " ('England', 2)]\n"
          ],
          "name": "stdout"
        }
      ]
    }
  ]
}